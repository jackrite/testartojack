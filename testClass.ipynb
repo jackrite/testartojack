{
  "nbformat": 4,
  "nbformat_minor": 0,
  "metadata": {
    "colab": {
      "name": "Untitled0.ipynb",
      "provenance": [],
      "authorship_tag": "ABX9TyOUd5UMu7YeTL/tSxFmpIvi",
      "include_colab_link": true
    },
    "kernelspec": {
      "name": "python3",
      "display_name": "Python 3"
    }
  },
  "cells": [
    {
      "cell_type": "markdown",
      "metadata": {
        "id": "view-in-github",
        "colab_type": "text"
      },
      "source": [
        "<a href=\"https://colab.research.google.com/github/jackrite/testartojack/blob/master/testClass.ipynb\" target=\"_parent\"><img src=\"https://colab.research.google.com/assets/colab-badge.svg\" alt=\"Open In Colab\"/></a>"
      ]
    },
    {
      "cell_type": "code",
      "metadata": {
        "id": "11-Yp6B3qARM",
        "outputId": "d6568f9a-a2f5-42cf-b528-1e5e140a7850",
        "colab": {
          "base_uri": "https://localhost:8080/",
          "height": 34
        }
      },
      "source": [
        "class Vehicle :\n",
        "  def __init__ (self,max_speed,mileage):\n",
        "    self.max_speed= max_speed\n",
        "    self.mileage= mileage\n",
        "\n",
        "modelFord = Vehicle (200,200000)\n",
        "modelFord.max_speed,modelFord.mileage"
      ],
      "execution_count": null,
      "outputs": [
        {
          "output_type": "execute_result",
          "data": {
            "text/plain": [
              "(200, 200000)"
            ]
          },
          "metadata": {
            "tags": []
          },
          "execution_count": 4
        }
      ]
    },
    {
      "cell_type": "code",
      "metadata": {
        "id": "t6cma8i6Zo1z",
        "outputId": "64f3a387-29b3-4a9e-b5fa-85cfa86d2e57",
        "colab": {
          "base_uri": "https://localhost:8080/",
          "height": 51
        }
      },
      "source": [
        "class Rectangle :\n",
        "  def __init__(self,length,width) :\n",
        "    self.length = length\n",
        "    self.width = width\n",
        "\n",
        "  def Perimeter (self,length,width) :\n",
        "    return (length + width)*2\n",
        "\n",
        "  def Perimeter1 (self) :\n",
        "    return (self.length + self.width)*2\n",
        "\n",
        "  def Area (self) :\n",
        "    return self.length * self.width\n",
        "\n",
        "  def Display (self) :\n",
        "    print ('length is {}'.format(self.length))\n",
        "    print(self.Perimeter1())\n",
        "\n",
        "a=Rectangle(2,3)\n",
        "#a.length,a.Perimeter1()\n",
        "a.Display()\n"
      ],
      "execution_count": null,
      "outputs": [
        {
          "output_type": "stream",
          "text": [
            "length is 2\n",
            "10\n"
          ],
          "name": "stdout"
        }
      ]
    },
    {
      "cell_type": "code",
      "metadata": {
        "id": "N_rg0vuwJalu",
        "outputId": "b6156999-f4dc-4aaa-a099-98884e51ae14",
        "colab": {
          "base_uri": "https://localhost:8080/",
          "height": 85
        }
      },
      "source": [
        "8/2\n",
        "print('\\n','a','\\n','b','\\n','c')"
      ],
      "execution_count": null,
      "outputs": [
        {
          "output_type": "stream",
          "text": [
            "\n",
            " a \n",
            " b \n",
            " c\n"
          ],
          "name": "stdout"
        }
      ]
    },
    {
      "cell_type": "code",
      "metadata": {
        "id": "houVX9tfcj_X"
      },
      "source": [
        ""
      ],
      "execution_count": null,
      "outputs": []
    }
  ]
}